{
  "nbformat": 4,
  "nbformat_minor": 0,
  "metadata": {
    "colab": {
      "provenance": [],
      "authorship_tag": "ABX9TyPomsQ/zuZAcjh9g2Y6fLFj",
      "include_colab_link": true
    },
    "kernelspec": {
      "name": "python3",
      "display_name": "Python 3"
    },
    "language_info": {
      "name": "python"
    }
  },
  "cells": [
    {
      "cell_type": "markdown",
      "metadata": {
        "id": "view-in-github",
        "colab_type": "text"
      },
      "source": [
        "<a href=\"https://colab.research.google.com/github/sneha3322/Automated-FAQ-system-/blob/main/Automated_FAQ_System_using_RAG.ipynb\" target=\"_parent\"><img src=\"https://colab.research.google.com/assets/colab-badge.svg\" alt=\"Open In Colab\"/></a>"
      ]
    },
    {
      "cell_type": "markdown",
      "source": [
        "## **TITLE: Automated FAQ System Using Retrieval-Augmented Generation (RAG)**"
      ],
      "metadata": {
        "id": "YZy1SWNlAZ_n"
      }
    },
    {
      "cell_type": "markdown",
      "source": [
        "## **Install Required Libraries**"
      ],
      "metadata": {
        "id": "zu7ecwmpDQU0"
      }
    },
    {
      "cell_type": "markdown",
      "source": [
        " Here, I install the necessary libraries that will be used throughout the project.\n",
        "\n",
        "\n",
        "*   'transformers' provides pre-trained models and tokenizers for NLP tasks.\n",
        "*   'pandas' is used for data manipulation and analysis.\n",
        "*   'torch' is the core library for PyTorch (used for deep learning).\n",
        "*   'sentence-transformers' is specifically for creating sentence embeddings.\n",
        "\n",
        "\n",
        "\n",
        "\n",
        "\n",
        "\n",
        "\n",
        "\n",
        "\n",
        "\n"
      ],
      "metadata": {
        "id": "hxvfufMwDg5u"
      }
    },
    {
      "cell_type": "code",
      "source": [
        "!pip install transformers\n",
        "!pip install pandas\n",
        "!pip install torch\n",
        "!pip install sentence-transformers\n"
      ],
      "metadata": {
        "colab": {
          "base_uri": "https://localhost:8080/"
        },
        "id": "1htDedPX-N57",
        "outputId": "aff25e36-31ab-41e7-af3d-9db8ec6f92f6"
      },
      "execution_count": null,
      "outputs": [
        {
          "output_type": "stream",
          "name": "stdout",
          "text": [
            "Requirement already satisfied: transformers in /usr/local/lib/python3.10/dist-packages (4.44.2)\n",
            "Requirement already satisfied: filelock in /usr/local/lib/python3.10/dist-packages (from transformers) (3.16.1)\n",
            "Requirement already satisfied: huggingface-hub<1.0,>=0.23.2 in /usr/local/lib/python3.10/dist-packages (from transformers) (0.24.7)\n",
            "Requirement already satisfied: numpy>=1.17 in /usr/local/lib/python3.10/dist-packages (from transformers) (1.26.4)\n",
            "Requirement already satisfied: packaging>=20.0 in /usr/local/lib/python3.10/dist-packages (from transformers) (24.1)\n",
            "Requirement already satisfied: pyyaml>=5.1 in /usr/local/lib/python3.10/dist-packages (from transformers) (6.0.2)\n",
            "Requirement already satisfied: regex!=2019.12.17 in /usr/local/lib/python3.10/dist-packages (from transformers) (2024.9.11)\n",
            "Requirement already satisfied: requests in /usr/local/lib/python3.10/dist-packages (from transformers) (2.32.3)\n",
            "Requirement already satisfied: safetensors>=0.4.1 in /usr/local/lib/python3.10/dist-packages (from transformers) (0.4.5)\n",
            "Requirement already satisfied: tokenizers<0.20,>=0.19 in /usr/local/lib/python3.10/dist-packages (from transformers) (0.19.1)\n",
            "Requirement already satisfied: tqdm>=4.27 in /usr/local/lib/python3.10/dist-packages (from transformers) (4.66.5)\n",
            "Requirement already satisfied: fsspec>=2023.5.0 in /usr/local/lib/python3.10/dist-packages (from huggingface-hub<1.0,>=0.23.2->transformers) (2024.6.1)\n",
            "Requirement already satisfied: typing-extensions>=3.7.4.3 in /usr/local/lib/python3.10/dist-packages (from huggingface-hub<1.0,>=0.23.2->transformers) (4.12.2)\n",
            "Requirement already satisfied: charset-normalizer<4,>=2 in /usr/local/lib/python3.10/dist-packages (from requests->transformers) (3.3.2)\n",
            "Requirement already satisfied: idna<4,>=2.5 in /usr/local/lib/python3.10/dist-packages (from requests->transformers) (3.10)\n",
            "Requirement already satisfied: urllib3<3,>=1.21.1 in /usr/local/lib/python3.10/dist-packages (from requests->transformers) (2.2.3)\n",
            "Requirement already satisfied: certifi>=2017.4.17 in /usr/local/lib/python3.10/dist-packages (from requests->transformers) (2024.8.30)\n",
            "Requirement already satisfied: pandas in /usr/local/lib/python3.10/dist-packages (2.2.2)\n",
            "Requirement already satisfied: numpy>=1.22.4 in /usr/local/lib/python3.10/dist-packages (from pandas) (1.26.4)\n",
            "Requirement already satisfied: python-dateutil>=2.8.2 in /usr/local/lib/python3.10/dist-packages (from pandas) (2.8.2)\n",
            "Requirement already satisfied: pytz>=2020.1 in /usr/local/lib/python3.10/dist-packages (from pandas) (2024.2)\n",
            "Requirement already satisfied: tzdata>=2022.7 in /usr/local/lib/python3.10/dist-packages (from pandas) (2024.2)\n",
            "Requirement already satisfied: six>=1.5 in /usr/local/lib/python3.10/dist-packages (from python-dateutil>=2.8.2->pandas) (1.16.0)\n",
            "Requirement already satisfied: torch in /usr/local/lib/python3.10/dist-packages (2.4.1+cu121)\n",
            "Requirement already satisfied: filelock in /usr/local/lib/python3.10/dist-packages (from torch) (3.16.1)\n",
            "Requirement already satisfied: typing-extensions>=4.8.0 in /usr/local/lib/python3.10/dist-packages (from torch) (4.12.2)\n",
            "Requirement already satisfied: sympy in /usr/local/lib/python3.10/dist-packages (from torch) (1.13.3)\n",
            "Requirement already satisfied: networkx in /usr/local/lib/python3.10/dist-packages (from torch) (3.3)\n",
            "Requirement already satisfied: jinja2 in /usr/local/lib/python3.10/dist-packages (from torch) (3.1.4)\n",
            "Requirement already satisfied: fsspec in /usr/local/lib/python3.10/dist-packages (from torch) (2024.6.1)\n",
            "Requirement already satisfied: MarkupSafe>=2.0 in /usr/local/lib/python3.10/dist-packages (from jinja2->torch) (2.1.5)\n",
            "Requirement already satisfied: mpmath<1.4,>=1.1.0 in /usr/local/lib/python3.10/dist-packages (from sympy->torch) (1.3.0)\n",
            "Requirement already satisfied: sentence-transformers in /usr/local/lib/python3.10/dist-packages (3.1.1)\n",
            "Requirement already satisfied: transformers<5.0.0,>=4.38.0 in /usr/local/lib/python3.10/dist-packages (from sentence-transformers) (4.44.2)\n",
            "Requirement already satisfied: tqdm in /usr/local/lib/python3.10/dist-packages (from sentence-transformers) (4.66.5)\n",
            "Requirement already satisfied: torch>=1.11.0 in /usr/local/lib/python3.10/dist-packages (from sentence-transformers) (2.4.1+cu121)\n",
            "Requirement already satisfied: scikit-learn in /usr/local/lib/python3.10/dist-packages (from sentence-transformers) (1.5.2)\n",
            "Requirement already satisfied: scipy in /usr/local/lib/python3.10/dist-packages (from sentence-transformers) (1.13.1)\n",
            "Requirement already satisfied: huggingface-hub>=0.19.3 in /usr/local/lib/python3.10/dist-packages (from sentence-transformers) (0.24.7)\n",
            "Requirement already satisfied: Pillow in /usr/local/lib/python3.10/dist-packages (from sentence-transformers) (10.4.0)\n",
            "Requirement already satisfied: filelock in /usr/local/lib/python3.10/dist-packages (from huggingface-hub>=0.19.3->sentence-transformers) (3.16.1)\n",
            "Requirement already satisfied: fsspec>=2023.5.0 in /usr/local/lib/python3.10/dist-packages (from huggingface-hub>=0.19.3->sentence-transformers) (2024.6.1)\n",
            "Requirement already satisfied: packaging>=20.9 in /usr/local/lib/python3.10/dist-packages (from huggingface-hub>=0.19.3->sentence-transformers) (24.1)\n",
            "Requirement already satisfied: pyyaml>=5.1 in /usr/local/lib/python3.10/dist-packages (from huggingface-hub>=0.19.3->sentence-transformers) (6.0.2)\n",
            "Requirement already satisfied: requests in /usr/local/lib/python3.10/dist-packages (from huggingface-hub>=0.19.3->sentence-transformers) (2.32.3)\n",
            "Requirement already satisfied: typing-extensions>=3.7.4.3 in /usr/local/lib/python3.10/dist-packages (from huggingface-hub>=0.19.3->sentence-transformers) (4.12.2)\n",
            "Requirement already satisfied: sympy in /usr/local/lib/python3.10/dist-packages (from torch>=1.11.0->sentence-transformers) (1.13.3)\n",
            "Requirement already satisfied: networkx in /usr/local/lib/python3.10/dist-packages (from torch>=1.11.0->sentence-transformers) (3.3)\n",
            "Requirement already satisfied: jinja2 in /usr/local/lib/python3.10/dist-packages (from torch>=1.11.0->sentence-transformers) (3.1.4)\n",
            "Requirement already satisfied: numpy>=1.17 in /usr/local/lib/python3.10/dist-packages (from transformers<5.0.0,>=4.38.0->sentence-transformers) (1.26.4)\n",
            "Requirement already satisfied: regex!=2019.12.17 in /usr/local/lib/python3.10/dist-packages (from transformers<5.0.0,>=4.38.0->sentence-transformers) (2024.9.11)\n",
            "Requirement already satisfied: safetensors>=0.4.1 in /usr/local/lib/python3.10/dist-packages (from transformers<5.0.0,>=4.38.0->sentence-transformers) (0.4.5)\n",
            "Requirement already satisfied: tokenizers<0.20,>=0.19 in /usr/local/lib/python3.10/dist-packages (from transformers<5.0.0,>=4.38.0->sentence-transformers) (0.19.1)\n",
            "Requirement already satisfied: joblib>=1.2.0 in /usr/local/lib/python3.10/dist-packages (from scikit-learn->sentence-transformers) (1.4.2)\n",
            "Requirement already satisfied: threadpoolctl>=3.1.0 in /usr/local/lib/python3.10/dist-packages (from scikit-learn->sentence-transformers) (3.5.0)\n",
            "Requirement already satisfied: MarkupSafe>=2.0 in /usr/local/lib/python3.10/dist-packages (from jinja2->torch>=1.11.0->sentence-transformers) (2.1.5)\n",
            "Requirement already satisfied: charset-normalizer<4,>=2 in /usr/local/lib/python3.10/dist-packages (from requests->huggingface-hub>=0.19.3->sentence-transformers) (3.3.2)\n",
            "Requirement already satisfied: idna<4,>=2.5 in /usr/local/lib/python3.10/dist-packages (from requests->huggingface-hub>=0.19.3->sentence-transformers) (3.10)\n",
            "Requirement already satisfied: urllib3<3,>=1.21.1 in /usr/local/lib/python3.10/dist-packages (from requests->huggingface-hub>=0.19.3->sentence-transformers) (2.2.3)\n",
            "Requirement already satisfied: certifi>=2017.4.17 in /usr/local/lib/python3.10/dist-packages (from requests->huggingface-hub>=0.19.3->sentence-transformers) (2024.8.30)\n",
            "Requirement already satisfied: mpmath<1.4,>=1.1.0 in /usr/local/lib/python3.10/dist-packages (from sympy->torch>=1.11.0->sentence-transformers) (1.3.0)\n"
          ]
        }
      ]
    },
    {
      "cell_type": "markdown",
      "source": [
        "## **Import Libraries**"
      ],
      "metadata": {
        "id": "rSQOoAk5E99V"
      }
    },
    {
      "cell_type": "markdown",
      "source": [
        " This cell imports the libraries that I will be using in this project.\n",
        "\n",
        "\n",
        "*   'pandas' is essential for handling the FAQ dataset.\n",
        "*   'pipeline' from 'transformers' allows me to use pre-trained models for various tasks.\n",
        "*   'SentenceTransformer' from 'sentence-transformers' is used for generating embeddings for the questions.\n",
        "*   The 'logging' library is used for tracking user interactions."
      ],
      "metadata": {
        "id": "mNOBW-sPFYki"
      }
    },
    {
      "cell_type": "code",
      "source": [
        "import pandas as pd\n",
        "from transformers import pipeline\n",
        "from sentence_transformers import SentenceTransformer, util\n",
        "import logging\n",
        "import re\n"
      ],
      "metadata": {
        "id": "qCNEb86i-SMH"
      },
      "execution_count": null,
      "outputs": []
    },
    {
      "cell_type": "markdown",
      "source": [
        "# **Load and Explore the Dataset**"
      ],
      "metadata": {
        "id": "cjR5P6BHGqtB"
      }
    },
    {
      "cell_type": "markdown",
      "source": [
        " In this cell, I load the FAQ dataset from a CSV file using pandas.\n",
        "\n",
        "This dataset contains questions and answers that the chatbot will use to provide responses.\n",
        "\n",
        "I also display the first few rows of the dataset to verify that it has been loaded correctly.\n",
        "\n",
        "The dataset used in this project is downloaded from Kaggle and it contains Tesco's online grocery FAQs.\n",
        "\n",
        "\n",
        "\n",
        "\n"
      ],
      "metadata": {
        "id": "3eFvOnzUGwj4"
      }
    },
    {
      "cell_type": "code",
      "source": [
        "file_path = '/content/faqs.csv'  #path of the faqs.csv\n",
        "faq_data = pd.read_csv(file_path)\n",
        "\n",
        "# Displaying the first few rows of the dataset to ensure it's loaded correctly\n",
        "print(\"Loaded FAQ Data (first 5 rows):\")\n",
        "print(faq_data.head())\n"
      ],
      "metadata": {
        "colab": {
          "base_uri": "https://localhost:8080/"
        },
        "id": "KqlRPZZJ-Uea",
        "outputId": "bf4be97c-9a2f-4b92-aa1e-5cbcd79fb325"
      },
      "execution_count": null,
      "outputs": [
        {
          "output_type": "stream",
          "name": "stdout",
          "text": [
            "Loaded FAQ Data (first 5 rows):\n",
            "    ID                Topic                        Subtopic  \\\n",
            "0  1.0  Online Grocery FAQs  Delivery and collection basics   \n",
            "1  2.0  Online Grocery FAQs  Delivery and collection basics   \n",
            "2  3.0  Online Grocery FAQs  Delivery and collection basics   \n",
            "3  4.0  Online Grocery FAQs  Delivery and collection basics   \n",
            "4  5.0  Online Grocery FAQs                 Ordering online   \n",
            "\n",
            "                            Question  \\\n",
            "0            Where Tesco delivers to   \n",
            "1  Delivery and Click+Collect prices   \n",
            "2                Minimum order value   \n",
            "3                  Returning an item   \n",
            "4             Slot times and options   \n",
            "\n",
            "                                              Answer  \n",
            "0  We deliver to most UK residential addresses. T...  \n",
            "1  The standard delivery charge is between £3–£7,...  \n",
            "2  A £5 minimum basket charge will be added to de...  \n",
            "3                     Please see our returns policy.  \n",
            "4  You can choose to get your shopping delivered ...  \n"
          ]
        }
      ]
    },
    {
      "cell_type": "markdown",
      "source": [
        "# **Data Cleaning and Preprocessing**"
      ],
      "metadata": {
        "id": "clqU4UguIeP9"
      }
    },
    {
      "cell_type": "markdown",
      "source": [
        "In this cell, I perform data cleaning and preprocessing to ensure that the text data is consistent and ready for analysis.\n",
        "\n",
        "This involves several steps:\n",
        "*   Convert all text to lowercase to maintain uniformity.\n",
        "*   Remove extra spaces to avoid issues during tokenization.\n",
        "*   Remove special characters to focus on alphanumeric content, which is more relevant for our FAQ matching task.\n",
        "\n",
        "\n",
        "\n",
        "\n"
      ],
      "metadata": {
        "id": "I9BfIoAyIhfG"
      }
    },
    {
      "cell_type": "code",
      "source": [
        "def clean_text(text):\n",
        "    text = text.lower()  # Convert to lowercase to ensure uniformity\n",
        "    text = re.sub(r'\\s+', ' ', text)  # Remove extra spaces\n",
        "    text = re.sub(r'[^a-zA-Z0-9\\s]', '', text)  # Remove special characters\n",
        "    return text\n",
        "\n",
        "\n",
        "# Checking for missing values\n",
        "# Before proceeding with text cleaning, I check for any missing values in the dataset.\n",
        "# Missing values can cause issues during text processing and model training, so they need to be addressed.\n",
        "print(\"Checking for missing values:\")\n",
        "print(faq_data.isnull().sum())\n",
        "\n",
        "\n",
        "# Drop rows with any missing values\n",
        "# If there are any rows with missing values, I drop them to ensure the dataset is clean.\n",
        "faq_data.dropna(inplace=True)\n",
        "\n",
        "\n",
        "# Applying text cleaning\n",
        "# Apply the 'clean_text' function to both the 'Question' and 'Answer' columns.\n",
        "# This ensures that both the input (questions) and output (answers) are preprocessed consistently.\n",
        "faq_data['Question'] = faq_data['Question'].apply(clean_text)\n",
        "faq_data['Answer'] = faq_data['Answer'].apply(clean_text)\n",
        "\n",
        "\n",
        "# Verifying the data after cleaning\n",
        "# Display the first few rows of the cleaned dataset to verify the cleaning process.\n",
        "print(\"Data after cleaning (first 5 rows):\")\n",
        "print(faq_data.head())\n"
      ],
      "metadata": {
        "colab": {
          "base_uri": "https://localhost:8080/"
        },
        "id": "jYA4p8WC-WUn",
        "outputId": "9767ef90-9101-4cd9-e8bc-d102bd4759ef"
      },
      "execution_count": null,
      "outputs": [
        {
          "output_type": "stream",
          "name": "stdout",
          "text": [
            "Checking for missing values:\n",
            "ID          50\n",
            "Topic        0\n",
            "Subtopic     0\n",
            "Question     0\n",
            "Answer       0\n",
            "dtype: int64\n",
            "Data after cleaning (first 5 rows):\n",
            "    ID                Topic                        Subtopic  \\\n",
            "0  1.0  Online Grocery FAQs  Delivery and collection basics   \n",
            "1  2.0  Online Grocery FAQs  Delivery and collection basics   \n",
            "2  3.0  Online Grocery FAQs  Delivery and collection basics   \n",
            "3  4.0  Online Grocery FAQs  Delivery and collection basics   \n",
            "4  5.0  Online Grocery FAQs                 Ordering online   \n",
            "\n",
            "                           Question  \\\n",
            "0           where tesco delivers to   \n",
            "1  delivery and clickcollect prices   \n",
            "2               minimum order value   \n",
            "3                 returning an item   \n",
            "4            slot times and options   \n",
            "\n",
            "                                              Answer  \n",
            "0  we deliver to most uk residential addresses to...  \n",
            "1  the standard delivery charge is between 37 dep...  \n",
            "2  a 5 minimum basket charge will be added to del...  \n",
            "3                      please see our returns policy  \n",
            "4  you can choose to get your shopping delivered ...  \n"
          ]
        }
      ]
    },
    {
      "cell_type": "markdown",
      "source": [
        "# **Initialize the SentenceTransformer Model for Embedding**"
      ],
      "metadata": {
        "id": "g2u1MGWcKQvY"
      }
    },
    {
      "cell_type": "markdown",
      "source": [
        "Here, I initialize the SentenceTransformer model, which will be used to generate embeddings for the FAQ questions and user queries.\n",
        "\n",
        "I use the 'all-MiniLM-L6-v2' model, which is efficient for producing high-quality sentence embeddings."
      ],
      "metadata": {
        "id": "w7aPiCZpKWWM"
      }
    },
    {
      "cell_type": "code",
      "source": [
        "model = SentenceTransformer('all-MiniLM-L6-v2')\n"
      ],
      "metadata": {
        "colab": {
          "base_uri": "https://localhost:8080/"
        },
        "id": "TazLAEmO-v7u",
        "outputId": "5c5306fe-c019-4394-9409-664a60c8ea14"
      },
      "execution_count": null,
      "outputs": [
        {
          "output_type": "stream",
          "name": "stderr",
          "text": [
            "/usr/local/lib/python3.10/dist-packages/transformers/tokenization_utils_base.py:1601: FutureWarning: `clean_up_tokenization_spaces` was not set. It will be set to `True` by default. This behavior will be depracted in transformers v4.45, and will be then set to `False` by default. For more details check this issue: https://github.com/huggingface/transformers/issues/31884\n",
            "  warnings.warn(\n"
          ]
        }
      ]
    },
    {
      "cell_type": "markdown",
      "source": [
        "# **Configure Logging**"
      ],
      "metadata": {
        "id": "zD9ivvJdKph7"
      }
    },
    {
      "cell_type": "markdown",
      "source": [
        "In this cell, I set up logging to track user interactions with the chatbot.\n",
        "\n",
        "This will help me understand user behavior and improve the FAQ dataset in the future.\n",
        "\n",
        "The log file will store user queries and the corresponding answers provided by the chatbot."
      ],
      "metadata": {
        "id": "_Ybcwc1sK4-X"
      }
    },
    {
      "cell_type": "code",
      "source": [
        "logging.basicConfig(filename='user_interactions.log', level=logging.INFO)\n",
        "\n",
        "def log_interaction(user_query, answer):\n",
        "    logging.info(f\"User Query: {user_query}\")  # Log the user's query\n",
        "    logging.info(f\"Answer: {answer}\")          # Log the corresponding answer\n"
      ],
      "metadata": {
        "id": "5TXhChmH-0OS"
      },
      "execution_count": null,
      "outputs": []
    },
    {
      "cell_type": "markdown",
      "source": [
        "# **Define a Function for Retrieval-Augmented Generation with Debugging**"
      ],
      "metadata": {
        "id": "g4_hupWHLPNm"
      }
    },
    {
      "cell_type": "markdown",
      "source": [
        " In this cell, I define a function that processes user queries to find the most relevant FAQ answer.\n",
        "\n",
        "This function uses a pre-trained model to encode the user query and compare it against the encoded FAQ questions.\n",
        "\n",
        "The function also includes debugging prints to help understand the matching process and similarity scores.\n"
      ],
      "metadata": {
        "id": "EjODE-ezL7xs"
      }
    },
    {
      "cell_type": "code",
      "source": [
        "def get_faq_answer(user_query):\n",
        "    try:\n",
        "        query_embedding = model.encode(user_query, convert_to_tensor=True)   # Encode the user query\n",
        "\n",
        "        # Compute cosine similarities between the query and FAQs\n",
        "        faq_embeddings = model.encode(faq_data['Question'].tolist(), convert_to_tensor=True)\n",
        "        similarities = util.pytorch_cos_sim(query_embedding, faq_embeddings)[0]\n",
        "\n",
        "        best_idx = similarities.argmax().item()         # Get the index of the most similar FAQ\n",
        "\n",
        "        # Retrieve the corresponding answer\n",
        "        best_answer = faq_data['Answer'].iloc[best_idx]\n",
        "\n",
        "        # These prints display the user query, the best matching FAQ question, and the similarity score.\n",
        "        print(f\"\\nQuery: {user_query}\")\n",
        "        print(f\"Best match: {faq_data['Question'].iloc[best_idx]}\")\n",
        "        print(f\"Similarity score: {similarities[best_idx].item()}\\n\")\n",
        "\n",
        "        if similarities[best_idx] < 0.5:                # Threshold for similarity\n",
        "            best_answer = \"I'm not sure about the answer to that. Can you try rephrasing?\"\n",
        "\n",
        "        log_interaction(user_query, best_answer)        # Log the interaction\n",
        "        return best_answer\n",
        "\n",
        "    except Exception as e:\n",
        "        return f\"An error occurred: {str(e)}\"           # Return error message\n"
      ],
      "metadata": {
        "id": "t5C_FG5R_d14"
      },
      "execution_count": null,
      "outputs": []
    },
    {
      "cell_type": "markdown",
      "source": [
        "# **Example Questions to Demonstrate Functionality**"
      ],
      "metadata": {
        "id": "Aj_N6lAMM6eN"
      }
    },
    {
      "cell_type": "markdown",
      "source": [
        "This cell provides a set of example questions to showcase how the FAQ system works.\n",
        "\n",
        "It helps to understand how the chatbot responds to common queries without needing to interact manually."
      ],
      "metadata": {
        "id": "4tLZbezwNAT5"
      }
    },
    {
      "cell_type": "code",
      "source": [
        "example_questions = [\n",
        "    \"How do I change my delivery address?\",\n",
        "    \"What is the return policy?\",\n",
        "    \"How can I track my order?\"\n",
        "]\n",
        "\n",
        "for question in example_questions:\n",
        "    answer = get_faq_answer(question)\n",
        "    print(f\"Question: {question}\")\n",
        "    print(f\"Answer: {answer}\\n\")\n"
      ],
      "metadata": {
        "colab": {
          "base_uri": "https://localhost:8080/"
        },
        "id": "e5NEzSb4_hpq",
        "outputId": "baa372f5-37b5-4b84-c480-a6d16ebb6866"
      },
      "execution_count": null,
      "outputs": [
        {
          "output_type": "stream",
          "name": "stdout",
          "text": [
            "\n",
            "Query: How do I change my delivery address?\n",
            "Best match: updating my delivery and clickcollect addresses\n",
            "Similarity score: 0.5946130156517029\n",
            "\n",
            "Question: How do I change my delivery address?\n",
            "Answer: to update an address select my account then phone  address book all of your address details should be displayed select add new address add your new details and select save address to update your new address details will be saved in your address book please make sure you select the correct address from your address book when you check out if youre using the tesco grocery  clubcard app select add new address within the book a slot section enter the details required then select use this address choose a convenient delivery slot and then tap begin shopping remember changing your delivery address or preferred clickcollect store may mean that your chosen delivery or clickcollect slot is no longer available products in your shopping basket are no longer available different promotions are available to you you may lose your current slot reservation on your current basket once an order has been placed we cant change the address the order will need to be cancelled and replaced \n",
            "\n",
            "\n",
            "Query: What is the return policy?\n",
            "Best match: returning an item\n",
            "Similarity score: 0.5348490476608276\n",
            "\n",
            "Question: What is the return policy?\n",
            "Answer: please see our returns policy\n",
            "\n",
            "\n",
            "Query: How can I track my order?\n",
            "Best match: viewing my orders\n",
            "Similarity score: 0.6822065114974976\n",
            "\n",
            "Question: How can I track my order?\n",
            "Answer: if youre using the website select my account at the top of the page then grocery orders this will display the order history for your grocery account here you can view orders youre currently shopping orders youve checked out cancelled orders and orders awaiting delivery or collection if youre using the tesco  grocery clubcard app tap my account at the top of the page then select orders due for delivery this will display the order history for your grocery account you can also view your last order from the homepage and previous orders from the lefthand menu under my orders \n",
            "\n"
          ]
        }
      ]
    },
    {
      "cell_type": "markdown",
      "source": [
        "# **User Interaction Loop**"
      ],
      "metadata": {
        "id": "vwZoz0c7NYeJ"
      }
    },
    {
      "cell_type": "markdown",
      "source": [
        "This function starts a loop that allows users to interact with the chatbot.\n",
        "\n",
        "Users can type their questions, and the chatbot will respond with the most relevant FAQ answer.\n",
        "\n",
        "Type 'exit' to end the interaction."
      ],
      "metadata": {
        "id": "Ib1IvVFbN2Tz"
      }
    },
    {
      "cell_type": "code",
      "source": [
        "def start_chatbot():\n",
        "    print(\"Welcome to the FAQ chatbot! Type 'exit' to end the session.\\n\")\n",
        "    while True:\n",
        "        user_query = input(\"You: \")\n",
        "        if user_query.lower() == 'exit':\n",
        "            print(\"Chatbot: Goodbye!\")\n",
        "            break\n",
        "        answer = get_faq_answer(user_query)\n",
        "        print(f\"Chatbot: {answer}\\n\")\n",
        "\n",
        "start_chatbot()\n"
      ],
      "metadata": {
        "colab": {
          "base_uri": "https://localhost:8080/"
        },
        "id": "xF7zXwB__jog",
        "outputId": "c4b3c652-4bf0-4329-9640-663c7e6b6420"
      },
      "execution_count": null,
      "outputs": [
        {
          "output_type": "stream",
          "name": "stdout",
          "text": [
            "Welcome to the FAQ chatbot! Type 'exit' to end the session.\n",
            "\n",
            "You: What to expect when my order is delivered?\n",
            "\n",
            "Query: What to expect when my order is delivered?\n",
            "Best match: what to expect when my order is delivered\n",
            "Similarity score: 0.9929834604263306\n",
            "\n",
            "Chatbot: if your order contains an age restricted product you may be asked for id regardless of your age the courier will record your date of birth and deliver the goods proof of delivery is required for all orders there are two methods that will be used depending on what your order contains if your order contains an age restricted product then a signature will be required if the order does not contain an age restricted product a photo will be taken of the whoosh bags on the doorstep\n",
            "\n",
            "You: how to track my address?\n",
            "\n",
            "Query: how to track my address?\n",
            "Best match: updating my delivery and clickcollect addresses\n",
            "Similarity score: 0.4128359258174896\n",
            "\n",
            "Chatbot: I'm not sure about the answer to that. Can you try rephrasing?\n",
            "\n",
            "You: How to check items ?\n",
            "\n",
            "Query: How to check items ?\n",
            "Best match: returning items\n",
            "Similarity score: 0.4938490390777588\n",
            "\n",
            "Chatbot: I'm not sure about the answer to that. Can you try rephrasing?\n",
            "\n",
            "You: How to check privacy and security policies?\n",
            "\n",
            "Query: How to check privacy and security policies?\n",
            "Best match: privacy and security policies\n",
            "Similarity score: 0.7130358219146729\n",
            "\n",
            "Chatbot: we take privacy and security very seriously at tesco both on our website and the tesco  grocery clubcard app we use the latest encryption techniques featuring secure sockets layer technology ssl with extended validation 128bit key certificates whenever personal or sensitive information such as payment details passes from your browser over the internet to our servers to find out more you can read our full privacy policy and terms and conditions online\n",
            "\n",
            "You: what are the Problems registering a Tesco account ?\n",
            "\n",
            "Query: what are the Problems registering a Tesco account ?\n",
            "Best match: where tesco delivers to\n",
            "Similarity score: 0.4857136905193329\n",
            "\n",
            "Chatbot: I'm not sure about the answer to that. Can you try rephrasing?\n",
            "\n",
            "You: Problems registering a Tesco account?\n",
            "\n",
            "Query: Problems registering a Tesco account?\n",
            "Best match: where tesco delivers to\n",
            "Similarity score: 0.4913652539253235\n",
            "\n",
            "Chatbot: I'm not sure about the answer to that. Can you try rephrasing?\n",
            "\n",
            "You: Leaving notes for my personal shopper?\n",
            "\n",
            "Query: Leaving notes for my personal shopper?\n",
            "Best match: leaving notes for my personal shopper\n",
            "Similarity score: 0.9922044277191162\n",
            "\n",
            "Chatbot: you can advise your personal shopper on what substitutes to pick if any products are unavailable you can also leave preferences in a note for example if youd like green bananas rather than yellow you can do this by selecting the view full basket button on the right of the screen at the bottom of your basket select the row of the product in the substitutions column then add a note your personal shopper will try their best to accommodate your preferences however this may not always be possible for example if the substitute you prefer is not in stock or if theres no suitable substitute available \n",
            "\n",
            "You: Are you Booking a delivery or Click+Collect slot ?\n",
            "\n",
            "Query: Are you Booking a delivery or Click+Collect slot ?\n",
            "Best match: booking a delivery or clickcollect slot\n",
            "Similarity score: 0.8343913555145264\n",
            "\n",
            "Chatbot: when you select book a delivery slot youll be shown available delivery and clickcollect slots select an available slot to book your delivery or clickcollect date and time you can order your deliveries or clickcollect up to 3 weeks in advance your slot will be held for 2 hours if you need more time you can extend this by a further 2 hours \n",
            "\n",
            "You: How to view my orders?\n",
            "\n",
            "Query: How to view my orders?\n",
            "Best match: viewing my orders\n",
            "Similarity score: 0.9344541430473328\n",
            "\n",
            "Chatbot: if youre using the website select my account at the top of the page then grocery orders this will display the order history for your grocery account here you can view orders youre currently shopping orders youve checked out cancelled orders and orders awaiting delivery or collection if youre using the tesco  grocery clubcard app tap my account at the top of the page then select orders due for delivery this will display the order history for your grocery account you can also view your last order from the homepage and previous orders from the lefthand menu under my orders \n",
            "\n",
            "You: How to view special offers?\n",
            "\n",
            "Query: How to view special offers?\n",
            "Best match: viewing special offers\n",
            "Similarity score: 0.9115520119667053\n",
            "\n",
            "Chatbot: view our special offers tab to see all the latest offers in your my favourites section you can also see if there are any offers on the items youve bought recently sign in to view my favourites \n",
            "\n",
            "You: exit\n",
            "Chatbot: Goodbye!\n"
          ]
        }
      ]
    },
    {
      "cell_type": "markdown",
      "source": [
        "# **CONCLUSION**\n",
        "\n",
        "\n",
        "\n",
        "In this project, I built an **Automated FAQ System Using Retrieval-Augmented Generation (RAG)** to create a chatbot that can answer user questions effectively. Using Tesco's online grocery FAQ dataset, I cleaned the data, generated embeddings, and used cosine similarity to match user questions with the best answers.\n",
        "\n",
        "The chatbot was able to provide accurate responses, improving user experience for customer support. The debugging features, like similarity score tracking, made the system more reliable and user-friendly.\n",
        "\n",
        "This project shows my ability to use open-source libraries and write good code to solve real problems.\n",
        "\n",
        "In the future, I plan to make the system even better by using machine learning to improve answer accuracy. I also want to expand the dataset with more questions and answers to handle a wider range of user queries.\n",
        "\n",
        "Overall, this project demonstrates how AI can help automate customer support, making it more efficient and scalable.\n"
      ],
      "metadata": {
        "id": "q-teEV7bUdNg"
      }
    }
  ]
}